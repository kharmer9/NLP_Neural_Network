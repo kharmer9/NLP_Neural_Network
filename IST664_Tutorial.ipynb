{
 "cells": [
  {
   "cell_type": "markdown",
   "metadata": {
    "id": "N64WWYPxMnyM"
   },
   "source": [
    "# IST 664 Final Project\n",
    "### Kevin Harmer\n",
    "This notebook was developed under the guidance of Lab 9 from the Syracuse iSchool's course IST 664. Model characteristics were also extracted from the Lab 10 of the same semester. While extracted from these labs, all code is directed toward the notebook's purpose. Also, I, Kevin Harmer, wrote all comments made in the code or in a surrounding text box to support project presentation."
   ]
  },
  {
   "cell_type": "markdown",
   "metadata": {
    "id": "KbApXyNklBpO"
   },
   "source": [
    "## Introduction\n",
    "The purpose of this project will be to write the first page of text in the style of Mark Twain. The text will be based off the two of Mark Twain's most popular novels: *Adventures of Huckleberry Finn* and *The Adventures of Tom Sawyer*. These online texts are available on gutenberg.org (exact links shown below and in references). The project is broken into several phases of development.\n",
    "\n",
    "The first two sections of the project work with data processing. Section 1 works with the data to convert the unstructured data from gutenberg into organized text data for evaluation. The goal for this section is to organize data into vector notation, which is machine readable for the notebook's models. Section 2 takes the imported data and organizes it into squences and datasets that can be used for the neural network models. The data at this point is hard to recognized relative to its initial text form.\n",
    "\n",
    "The third and fourth sections of the project concern model selection. In the development of a neural network model to write the final text, there are some analytics used to determine the best model. The third section deals with the development of three different neural networks: gated recurrent network, long short-term memory nework and a simple recurrent neural network. Once the models are developed, section 4 compares the three models, along with examining performance and accuracy among different epochs, embedding dimensions and neural network units.\n",
    "\n",
    "Based on the results from section 4, section 5 works with the development and training of a final model. This step recognizes the strengths of models and their associated testing parameters and uses the best results in development. Once compiled and trained, this model is used in the writing of the new book.\n",
    "\n",
    "Section 6 is dedicated to using the model from section 5 and generating it into text. The resulting neural network projects 2000 charcaters of text following the initial text of \"Chapter 1\", making it the first page of the computer-generated book.\n",
    "\n",
    "Getting into the notebook, we start with uploading all the modules used in the process."
   ]
  },
  {
   "cell_type": "code",
   "execution_count": 1,
   "metadata": {
    "id": "Qf8NxTpAU0ch"
   },
   "outputs": [],
   "source": [
    "import tensorflow as tf #model module\n",
    "from tensorflow import keras #layes of model development\n",
    "from tensorflow.keras.layers.experimental import preprocessing #data processing\n",
    "\n",
    "import numpy as np #numerical analysis\n",
    "import time #cell timing\n",
    "import matplotlib.pyplot as plt #used for model comparison\n",
    "\n",
    "from urllib import request #reading in data from url"
   ]
  },
  {
   "cell_type": "markdown",
   "metadata": {
    "id": "OlW2pL3yf4R0"
   },
   "source": [
    "## 1. Importing and Manipulating the Data\n",
    "Our first objective is obtaining the data. The following cells are used to import the text data from gutenberg.org.\n",
    "\n",
    "*Adventures of Huckleberry Finn* Text Url: https://www.gutenberg.org/files/76/76-0.txt\n",
    "\n",
    "*The Adventures of Tom Sawyer* Text Url: https://www.gutenberg.org/files/74/74-0.txt"
   ]
  },
  {
   "cell_type": "code",
   "execution_count": 2,
   "metadata": {
    "id": "rfODWTfPYiN3"
   },
   "outputs": [],
   "source": [
    "hf_url = \"https://www.gutenberg.org/files/76/76-0.txt\" #huckleberry finn\n",
    "hf_response = request.urlopen(hf_url)\n",
    "\n",
    "ts_url = \"https://www.gutenberg.org/files/74/74-0.txt\" #tom sawyer\n",
    "ts_response = request.urlopen(ts_url)"
   ]
  },
  {
   "cell_type": "code",
   "execution_count": 3,
   "metadata": {
    "colab": {
     "base_uri": "https://localhost:8080/"
    },
    "id": "aeZF5I2ObcUE",
    "outputId": "b47abbd1-e9ca-4746-cdb5-c16aea42b1c1"
   },
   "outputs": [
    {
     "data": {
      "text/plain": [
       "546355"
      ]
     },
     "execution_count": 3,
     "metadata": {},
     "output_type": "execute_result"
    }
   ],
   "source": [
    "#reading in the huckleberry finn text file\n",
    "hf_text = hf_response.read().decode('utf8') #entire huckleberry finn text\n",
    "#len(hf_text) #len for text measurments\n",
    "hf_text = hf_text[9572:] #removing all preliminary information up to chapter 1\n",
    "#len(hf_text) #len for text measurments\n",
    "hf_text = hf_text[:546355] #removing everything after the end of story; NEEDS TO BE AFTER INITIAL TEXT SPLIT\n",
    "len(hf_text) #final huckleberry finn text length"
   ]
  },
  {
   "cell_type": "code",
   "execution_count": 4,
   "metadata": {
    "colab": {
     "base_uri": "https://localhost:8080/"
    },
    "id": "EJ-f_oHqd3_7",
    "outputId": "448da987-298a-4c37-932d-a9430f86a6f6"
   },
   "outputs": [
    {
     "data": {
      "text/plain": [
       "394264"
      ]
     },
     "execution_count": 4,
     "metadata": {},
     "output_type": "execute_result"
    }
   ],
   "source": [
    "ts_text = ts_response.read().decode('utf8') #entire tom sawyer text\n",
    "#len(ts_text) #len for text measurements\n",
    "ts_text = ts_text[7997:] #removing all preliminary information up to chapter 1\n",
    "#len(ts_text) #len for text measurements\n",
    "ts_text = ts_text[:394264] #removing everything after end of story; NEEDS TO BE AFTER INITIAL TEXT SPLIT\n",
    "len(ts_text) #final tom sawyer text length"
   ]
  },
  {
   "cell_type": "markdown",
   "metadata": {
    "id": "-HGaojXVvJMu"
   },
   "source": [
    "Once the data is imported, we start to convert it to machine readable data for analysis. The first step is organizing the characters of the text. These next few cells show the character analysis."
   ]
  },
  {
   "cell_type": "code",
   "execution_count": 5,
   "metadata": {
    "colab": {
     "base_uri": "https://localhost:8080/"
    },
    "id": "4ldNXNd3eBBZ",
    "outputId": "e4ad6327-fb97-4bed-f003-d377e0254b3b"
   },
   "outputs": [
    {
     "name": "stdout",
     "output_type": "stream",
     "text": [
      "Huckleberry Finn has 77 unique characters.\n",
      "\n",
      "Tom Sawyer has 74 unique characters.\n"
     ]
    }
   ],
   "source": [
    "#Looking at input characters\n",
    "hf_vocab = sorted(set(hf_text)) #Huckleberry Finn Characters\n",
    "print(\"Huckleberry Finn has \" + str(len(hf_vocab)) + \" unique characters.\")\n",
    "ts_vocab = sorted(set(ts_text)) #Tom Sawyer Characters\n",
    "print(\"\\nTom Sawyer has \" + str(len(ts_vocab)) + \" unique characters.\")"
   ]
  },
  {
   "cell_type": "code",
   "execution_count": 6,
   "metadata": {
    "colab": {
     "base_uri": "https://localhost:8080/"
    },
    "id": "qLAoCpwUhTHP",
    "outputId": "fd29fab6-fd96-450d-d78a-cd1794b6c128"
   },
   "outputs": [
    {
     "name": "stdout",
     "output_type": "stream",
     "text": [
      "In both texts combined, there are a total of 81 unique characters.\n"
     ]
    }
   ],
   "source": [
    "#need to combine characters\n",
    "vocab = sorted(set(list(set(hf_text))+list(set(ts_text)))) #combining unique lists of text characters into sorted unique set of total characters\n",
    "print(\"In both texts combined, there are a total of \" + str(len(vocab)) + \" unique characters.\")"
   ]
  },
  {
   "cell_type": "code",
   "execution_count": 7,
   "metadata": {
    "colab": {
     "base_uri": "https://localhost:8080/"
    },
    "id": "altcut8plAgn",
    "outputId": "44218ef4-6d66-42d1-bf74-804f5b2ff7e0"
   },
   "outputs": [
    {
     "data": {
      "text/plain": [
       "['\\n', '\\r', ' ', '!', '$', '&', \"'\", '(', ')', '*']"
      ]
     },
     "execution_count": 7,
     "metadata": {},
     "output_type": "execute_result"
    }
   ],
   "source": [
    "vocab[:10]"
   ]
  },
  {
   "cell_type": "markdown",
   "metadata": {
    "id": "CLmWhd3iwtSv"
   },
   "source": [
    "It is important that the final vocab character set has inputs from both texts. The resulting text at the end should have input that looks like the first two texts and that is only accomplished with all the possible characters. With character lists, we start to vectorize the input. Specifically, the characters are now broken into character id tensors. These contain all the ids with each character (for numeric representation) along with a '[UNK]' key, which represents characters not located in the texts."
   ]
  },
  {
   "cell_type": "code",
   "execution_count": 8,
   "metadata": {
    "colab": {
     "base_uri": "https://localhost:8080/"
    },
    "id": "hPg8pMTcifqm",
    "outputId": "7d7f5abb-3c14-419c-d6da-72abcbe408b4"
   },
   "outputs": [
    {
     "data": {
      "text/plain": [
       "(['[UNK]', '\\n', '\\r', ' ', '!', '$', '&', \"'\", '(', ')'], 82)"
      ]
     },
     "execution_count": 8,
     "metadata": {},
     "output_type": "execute_result"
    }
   ],
   "source": [
    "#converting possible text inputs to vector layout with numerics for model analysis\n",
    "ids_from_chars = preprocessing.StringLookup(vocabulary=list(vocab), mask_token=None) #ids from list of total vocab\n",
    "ids_from_chars.get_vocabulary()[:10], len(ids_from_chars.get_vocabulary())"
   ]
  },
  {
   "cell_type": "code",
   "execution_count": 9,
   "metadata": {
    "id": "N8zVID1sis3u"
   },
   "outputs": [],
   "source": [
    "#inversion function for ids; get characters from ids\n",
    "chars_from_ids = preprocessing.StringLookup(vocabulary=ids_from_chars.get_vocabulary(), invert=True, mask_token=None)"
   ]
  },
  {
   "cell_type": "markdown",
   "metadata": {
    "id": "B42tsB1olF-F"
   },
   "source": [
    "The preprocessed ids correspond to the correct characters from the book's combined vocab. They are identical other than '[UNK]', which represents a possible inputted unknown character. Now that our characters have been numerically described, we can convert the texts into these vectors."
   ]
  },
  {
   "cell_type": "code",
   "execution_count": 10,
   "metadata": {
    "id": "cv-5MHuMknIU"
   },
   "outputs": [],
   "source": [
    "hf_chars = tf.strings.unicode_split(hf_text, input_encoding='UTF-8') #encoding huckleberry finn into tensor\n",
    "ts_chars = tf.strings.unicode_split(ts_text, input_encoding='UTF-8') #encoding tom sawyer into tensor\n",
    "#hf_chars[:10] #taking a look at the first 10 characters in tensor form"
   ]
  },
  {
   "cell_type": "code",
   "execution_count": 11,
   "metadata": {
    "id": "YRXB12u5NUPF"
   },
   "outputs": [],
   "source": [
    "hf_ids = ids_from_chars(hf_chars) #getting numeric ids from encoded tensor characters\n",
    "ts_ids = ids_from_chars(ts_chars)\n",
    "#hf_ids[:10] #previwing same ids from before"
   ]
  },
  {
   "cell_type": "markdown",
   "metadata": {
    "id": "Ge8ZOsj0zIGT"
   },
   "source": [
    "With our set of ids, we have efficiently gathered all of the characters into tensors. With that, we can move onto the next section."
   ]
  },
  {
   "cell_type": "markdown",
   "metadata": {
    "id": "dkhRWH5RTBJC"
   },
   "source": [
    "## 2. Preparing Data for Model Training"
   ]
  },
  {
   "cell_type": "markdown",
   "metadata": {
    "id": "MNtpzBdJ479G"
   },
   "source": [
    "At this point, it is necessary to start organizing in the data in a way that is machine readable, even if it is not human readable. Firstly, the texts are combined. This is because our objective is to write a new sequence regardless of the specific point in the story. Additionally, the text will be shuffled later, so the order does not completely matter."
   ]
  },
  {
   "cell_type": "code",
   "execution_count": 12,
   "metadata": {
    "id": "zD-x8sB2ACpR"
   },
   "outputs": [],
   "source": [
    "tottext = hf_text + ts_text\n",
    "num_char = len(tottext)"
   ]
  },
  {
   "cell_type": "code",
   "execution_count": 13,
   "metadata": {
    "id": "NQCiCl1fYdzi"
   },
   "outputs": [],
   "source": [
    "hf_id_dataset = tf.data.Dataset.from_tensor_slices(hf_ids)\n",
    "ts_id_dataset = tf.data.Dataset.from_tensor_slices(ts_ids)"
   ]
  },
  {
   "cell_type": "code",
   "execution_count": 14,
   "metadata": {
    "id": "WkxTnpZAAYFw"
   },
   "outputs": [],
   "source": [
    "chars = tf.strings.unicode_split(tottext, input_encoding='UTF-8') #converting texts to tensor\n",
    "ids = ids_from_chars(chars) #converting to ids based on tensor\n",
    "id_dataset = tf.data.Dataset.from_tensor_slices(ids) #using dataset from tensorflow to organize data; will be elaborated later"
   ]
  },
  {
   "cell_type": "markdown",
   "metadata": {
    "id": "yq0b_WY86HEd"
   },
   "source": [
    "With the combined text, we will now convert it to a set of sequences. These sequences will be analyzed individually. The models will be trained by these sequences and later generate similar sequences."
   ]
  },
  {
   "cell_type": "code",
   "execution_count": 15,
   "metadata": {
    "id": "gEHl9CV_SPiZ"
   },
   "outputs": [],
   "source": [
    "seq_length = 80 # 80 is about one line of standard text; 60 and 100 tested, but 80 led to best model\n",
    "hf_sequences = hf_id_dataset.batch(seq_length+1, drop_remainder=True)\n",
    "ts_sequences = ts_id_dataset.batch(seq_length+1, drop_remainder=True)\n",
    "sequences = id_dataset.batch(seq_length+1, drop_remainder=True) #generating batchs of sequences with length designated above"
   ]
  },
  {
   "cell_type": "markdown",
   "metadata": {
    "id": "5W1QYHAN7MG-"
   },
   "source": [
    "The following block of code is taken from lab 9, with added original comments. The purpose of the code is to take the sequences and split them into a training set of sequences, then pair them with each of their following sequences. The result is then mapped into an entire data structure, which is labeled \"dataset.\""
   ]
  },
  {
   "cell_type": "code",
   "execution_count": 16,
   "metadata": {
    "id": "-_ileS0kTxoP"
   },
   "outputs": [],
   "source": [
    "#following function taken from Lab 9\n",
    "def split_input_target(sequence):\n",
    "    input_text = sequence[:-1] #input text; initial sequences in data\n",
    "    target_text = sequence[1:] #target text; exactly one sequence after input sequence\n",
    "    return input_text, target_text"
   ]
  },
  {
   "cell_type": "code",
   "execution_count": 17,
   "metadata": {
    "id": "nMi7OlAsVcC1"
   },
   "outputs": [],
   "source": [
    "hf_dataset = hf_sequences.map(split_input_target)\n",
    "ts_dataset = ts_sequences.map(split_input_target)\n",
    "dataset = sequences.map(split_input_target) #developing data set with sequence to sequence pairs"
   ]
  },
  {
   "cell_type": "markdown",
   "metadata": {
    "id": "Gq6dJnOm8JG1"
   },
   "source": [
    "Now that we have a data set of initial sequences to sequences immediately following the sequence, we can shuffle the sequences. This is important so that the dataset has some randomization of prediction to prevent overfitting."
   ]
  },
  {
   "cell_type": "code",
   "execution_count": 18,
   "metadata": {
    "id": "gfmEWEgkVwla"
   },
   "outputs": [],
   "source": [
    "batch_size = 64\n",
    "hf_buffer = len(hf_text)\n",
    "ts_buffer = len(ts_text)\n",
    "buffer_size = len(tottext)\n",
    "\n",
    "hf_dataset = dataset.shuffle(hf_buffer).batch(batch_size, drop_remainder=True).prefetch(tf.data.experimental.AUTOTUNE)\n",
    "ts_dataset = dataset.shuffle(ts_buffer).batch(batch_size, drop_remainder=True).prefetch(tf.data.experimental.AUTOTUNE)\n",
    "#dataset = dataset.shuffle(buffer_size).batch(batch_size, drop_remainder=True).prefetch(tf.data.experimental.AUTOTUNE)\n",
    "\n",
    "dataset = hf_dataset.concatenate(ts_dataset)"
   ]
  },
  {
   "cell_type": "markdown",
   "metadata": {
    "id": "W4YcTRHpYk5G"
   },
   "source": [
    "## 3. Building the Models"
   ]
  },
  {
   "cell_type": "markdown",
   "metadata": {
    "id": "gxUORP-u-wEd"
   },
   "source": [
    "Now that the data has been prepared for models, we can move into the model development. Firstly, we define a few parameters:"
   ]
  },
  {
   "cell_type": "code",
   "execution_count": 19,
   "metadata": {
    "id": "9x2PI00QXk45"
   },
   "outputs": [],
   "source": [
    "vocab_size = len(chars_from_ids.get_vocabulary()) #number of unique characters\n",
    "embedding_dim = len(chars_from_ids.get_vocabulary()) #number of embedding vector dimensions; possible overfitting when exceeding vocab size\n",
    "rnn_units = 4*len(chars_from_ids.get_vocabulary()) #nodes for embedding layers (enough for 4 nodes)"
   ]
  },
  {
   "cell_type": "markdown",
   "metadata": {
    "id": "fem9y5qJ-5-b"
   },
   "source": [
    "The vocab size represents the amount of characters in the data set, the embedding dimension represents how in depth the embedding will be, and the rnn_units determine how many features the model can represent. In testing, embedding size was tested with twice the vocab_size and rnn_units was tested with anywhere from the embedding dimension to 20x the embedding dimension. The best results were embedding exactly at the vocab size and the rnn units about 10 times the size of the embedding dimension. The listed values, however, were used for model comparison.\n",
    "\n",
    "Moving forwards, we will next build the actual models used for analysis. The following two models were developed using the models found in Lab 10."
   ]
  },
  {
   "cell_type": "code",
   "execution_count": 20,
   "metadata": {
    "id": "baDpauYDb1Fx"
   },
   "outputs": [],
   "source": [
    "class RNNmodel(tf.keras.Model): #School of Information Studies, 2022\n",
    "  def __init__(self, vocab_size, embedding_dim, rnn_units, rnn_type = \"RNN\"):\n",
    "    super().__init__(self)\n",
    "    self.embedding = tf.keras.layers.Embedding(vocab_size, embedding_dim) #embedding tensorflow layer\n",
    "    if rnn_type==\"RNN\": #run simple rnn; model 1\n",
    "      #simple RNN model with returned sequences and states to grow from previous vaulues\n",
    "      self.rnn = tf.keras.layers.SimpleRNN(rnn_units, return_sequences=True,return_state=True)\n",
    "    elif rnn_type == \"GRU\": #run GRU; model 2\n",
    "      #GRU model with returned sequences and states to grow from previous vaulues\n",
    "      self.rnn = tf.keras.layers.GRU(rnn_units,return_sequences=True,return_state=True)\n",
    "    else:\n",
    "      print(\"Type of Neural Network not Specificed. Please select 'RNN' or 'GRU'.\")\n",
    "    self.dense = tf.keras.layers.Dense(vocab_size) #bring the dimesions of internal layers back to the vocab size\n",
    "\n",
    "  def call(self, inputs, states=None, return_state=False, training=False):\n",
    "    x = inputs #redfining alias\n",
    "    x = self.embedding(x, training=training) #embedding the input baesd on training set\n",
    "    if states is None:\n",
    "      states = self.rnn.get_initial_state(x) #checking for initial states\n",
    "    x, states = self.rnn(x, initial_state=states, training=training) #applying initial states if any\n",
    "    x = self.dense(x, training=training) #applying to entire model\n",
    "    if return_state: #checking return state\n",
    "      return x, states\n",
    "    else:\n",
    "      return x"
   ]
  },
  {
   "cell_type": "code",
   "execution_count": 21,
   "metadata": {
    "id": "Z4fpl04PaXQ7"
   },
   "outputs": [],
   "source": [
    "class LSTMmodel(keras.Model): #School of Information Studies, 2022\n",
    "  def __init__(self, vocab_size, embedding_dim, rnn_units):\n",
    "    super().__init__(self)\n",
    "    self.embedding = tf.keras.layers.Embedding(vocab_size, embedding_dim) #embedding layer\n",
    "    self.rnn = tf.keras.layers.LSTM(rnn_units, return_sequences=True,return_state=True) #run LSTM; model 1\n",
    "    self.dense = tf.keras.layers.Dense(vocab_size) #Dense Layer\n",
    "\n",
    "  def call(self, inputs, states=None, return_state=False, training=False):\n",
    "    #similar to other model\n",
    "    x = inputs\n",
    "    x = self.embedding(x, training=training)\n",
    "    if states is None:\n",
    "      states = self.rnn.get_initial_state(x)\n",
    "    x, states1, states2 = self.rnn(x, initial_state = states, training = training)\n",
    "    x = self.dense(x, training=training)\n",
    "    if return_state:\n",
    "      return x, states1, states2\n",
    "    else:\n",
    "      return x"
   ]
  },
  {
   "cell_type": "markdown",
   "metadata": {
    "id": "R2C4ePHfNIEA"
   },
   "source": [
    "With defined models, we can move into the actual development of our models:"
   ]
  },
  {
   "cell_type": "code",
   "execution_count": 22,
   "metadata": {
    "id": "H7Mi02T39k2R"
   },
   "outputs": [],
   "source": [
    "model1 = RNNmodel(vocab_size=vocab_size, #simple RNN model\n",
    "    embedding_dim=embedding_dim,\n",
    "    rnn_units=rnn_units)\n",
    "\n",
    "model2 = RNNmodel(vocab_size=vocab_size, #GRU model\n",
    "    embedding_dim=embedding_dim,\n",
    "    rnn_units=rnn_units,\n",
    "    rnn_type = \"GRU\")\n",
    "\n",
    "model3 = LSTMmodel(vocab_size=vocab_size, #LSTM model\n",
    "    embedding_dim=embedding_dim,\n",
    "    rnn_units=rnn_units)\n",
    "\n",
    "# The following code is to help build the model; running the data set through\n",
    "# an iteration of each model teaches the model what the input data will be.\n",
    "for input_example_batch, target_example_batch in dataset.take(1):\n",
    "    example_batch_predictions1 = model1(input_example_batch)\n",
    "\n",
    "for input_example_batch, target_example_batch in dataset.take(1):\n",
    "    example_batch_predictions2 = model2(input_example_batch)\n",
    "\n",
    "for input_example_batch, target_example_batch in dataset.take(1):\n",
    "    example_batch_predictions3 = model3(input_example_batch)\n"
   ]
  },
  {
   "cell_type": "markdown",
   "metadata": {
    "id": "lei4u6tgNPKR"
   },
   "source": [
    "Which lead to the model framework found in the following three cells:"
   ]
  },
  {
   "cell_type": "code",
   "execution_count": 23,
   "metadata": {
    "colab": {
     "base_uri": "https://localhost:8080/"
    },
    "id": "mPtFYKMB_FWC",
    "outputId": "f95d9b8d-5d78-4fa7-fafc-77e2a876b6f5"
   },
   "outputs": [
    {
     "name": "stdout",
     "output_type": "stream",
     "text": [
      "Model: \"rn_nmodel\"\n",
      "_________________________________________________________________\n",
      " Layer (type)                Output Shape              Param #   \n",
      "=================================================================\n",
      " embedding (Embedding)       multiple                  6724      \n",
      "                                                                 \n",
      " simple_rnn (SimpleRNN)      multiple                  134808    \n",
      "                                                                 \n",
      " dense (Dense)               multiple                  26978     \n",
      "                                                                 \n",
      "=================================================================\n",
      "Total params: 168,510\n",
      "Trainable params: 168,510\n",
      "Non-trainable params: 0\n",
      "_________________________________________________________________\n"
     ]
    }
   ],
   "source": [
    "model1.summary()"
   ]
  },
  {
   "cell_type": "code",
   "execution_count": 24,
   "metadata": {
    "colab": {
     "base_uri": "https://localhost:8080/"
    },
    "id": "NBXsBpheVK_v",
    "outputId": "77ca5539-9a93-4a78-f420-1710493ac013"
   },
   "outputs": [
    {
     "name": "stdout",
     "output_type": "stream",
     "text": [
      "Model: \"rn_nmodel_1\"\n",
      "_________________________________________________________________\n",
      " Layer (type)                Output Shape              Param #   \n",
      "=================================================================\n",
      " embedding_1 (Embedding)     multiple                  6724      \n",
      "                                                                 \n",
      " gru (GRU)                   multiple                  405408    \n",
      "                                                                 \n",
      " dense_1 (Dense)             multiple                  26978     \n",
      "                                                                 \n",
      "=================================================================\n",
      "Total params: 439,110\n",
      "Trainable params: 439,110\n",
      "Non-trainable params: 0\n",
      "_________________________________________________________________\n"
     ]
    }
   ],
   "source": [
    "model2.summary()"
   ]
  },
  {
   "cell_type": "code",
   "execution_count": 25,
   "metadata": {
    "colab": {
     "base_uri": "https://localhost:8080/"
    },
    "id": "_RrUwkjpft82",
    "outputId": "2a09d405-1a42-4a32-9dec-6c4f5c5559a4"
   },
   "outputs": [
    {
     "name": "stdout",
     "output_type": "stream",
     "text": [
      "Model: \"lst_mmodel\"\n",
      "_________________________________________________________________\n",
      " Layer (type)                Output Shape              Param #   \n",
      "=================================================================\n",
      " embedding_2 (Embedding)     multiple                  6724      \n",
      "                                                                 \n",
      " lstm (LSTM)                 multiple                  539232    \n",
      "                                                                 \n",
      " dense_2 (Dense)             multiple                  26978     \n",
      "                                                                 \n",
      "=================================================================\n",
      "Total params: 572,934\n",
      "Trainable params: 572,934\n",
      "Non-trainable params: 0\n",
      "_________________________________________________________________\n"
     ]
    }
   ],
   "source": [
    "model3.summary()"
   ]
  },
  {
   "cell_type": "markdown",
   "metadata": {
    "id": "iJ3ueQdYCW-d"
   },
   "source": [
    "## 4. Model Selection"
   ]
  },
  {
   "cell_type": "markdown",
   "metadata": {
    "id": "BH8nV4WpOFdg"
   },
   "source": [
    "Now that the framework of the models have been constructed, we can finally move into the data training and ultimately select a model. We begin by compiling each of the models using a crossentropy log loss function."
   ]
  },
  {
   "cell_type": "code",
   "execution_count": 26,
   "metadata": {
    "id": "rWgjgxQ3CWS_"
   },
   "outputs": [],
   "source": [
    "# setting the loss analysis\n",
    "loss = tf.losses.SparseCategoricalCrossentropy(from_logits=True)\n",
    "model1.compile(optimizer='adam', loss=loss)\n",
    "model2.compile(optimizer='adam', loss=loss)\n",
    "model3.compile(optimizer='adam', loss=loss)"
   ]
  },
  {
   "cell_type": "markdown",
   "metadata": {
    "id": "DfS1_Rz9OZuW"
   },
   "source": [
    "Then, we fit the following models. This is the step which requires the most parameter fluctuation. Parameters have been tuned and adjusted. The final parameters for display help the reader view the ultimate results of each model, leading to the model selection in the next section. *Note:* GPU Accelerator Recommended for this step."
   ]
  },
  {
   "cell_type": "code",
   "execution_count": 27,
   "metadata": {
    "colab": {
     "base_uri": "https://localhost:8080/"
    },
    "id": "0xAhmIDm-rBH",
    "outputId": "080ad592-fdb1-4142-fff3-2bd3d069cc18"
   },
   "outputs": [
    {
     "name": "stdout",
     "output_type": "stream",
     "text": [
      "Epoch 1/20\n",
      "105/105 [==============================] - 9s 72ms/step - loss: 2.9060\n",
      "Epoch 2/20\n",
      "105/105 [==============================] - 10s 89ms/step - loss: 2.2149\n",
      "Epoch 3/20\n",
      "105/105 [==============================] - 8s 72ms/step - loss: 2.0253\n",
      "Epoch 4/20\n",
      "105/105 [==============================] - 8s 73ms/step - loss: 1.9004\n",
      "Epoch 5/20\n",
      "105/105 [==============================] - 8s 70ms/step - loss: 1.8062\n",
      "Epoch 6/20\n",
      "105/105 [==============================] - 8s 71ms/step - loss: 1.7332\n",
      "Epoch 7/20\n",
      "105/105 [==============================] - 8s 72ms/step - loss: 1.6755\n",
      "Epoch 8/20\n",
      "105/105 [==============================] - 8s 72ms/step - loss: 1.6275\n",
      "Epoch 9/20\n",
      "105/105 [==============================] - 9s 81ms/step - loss: 1.5874\n",
      "Epoch 10/20\n",
      "105/105 [==============================] - 9s 74ms/step - loss: 1.5541\n",
      "Epoch 11/20\n",
      "105/105 [==============================] - 8s 73ms/step - loss: 1.5247\n",
      "Epoch 12/20\n",
      "105/105 [==============================] - 8s 72ms/step - loss: 1.5003\n",
      "Epoch 13/20\n",
      "105/105 [==============================] - 8s 71ms/step - loss: 1.4779\n",
      "Epoch 14/20\n",
      "105/105 [==============================] - 8s 71ms/step - loss: 1.4582\n",
      "Epoch 15/20\n",
      "105/105 [==============================] - 9s 75ms/step - loss: 1.4394\n",
      "Epoch 16/20\n",
      "105/105 [==============================] - 8s 69ms/step - loss: 1.4235\n",
      "Epoch 17/20\n",
      "105/105 [==============================] - 8s 68ms/step - loss: 1.4101\n",
      "Epoch 18/20\n",
      "105/105 [==============================] - 8s 67ms/step - loss: 1.3955\n",
      "Epoch 19/20\n",
      "105/105 [==============================] - 8s 68ms/step - loss: 1.3834\n",
      "Epoch 20/20\n",
      "105/105 [==============================] - 8s 68ms/step - loss: 1.3707\n",
      "Epoch 1/20\n",
      "105/105 [==============================] - 3s 11ms/step - loss: 3.2357\n",
      "Epoch 2/20\n",
      "105/105 [==============================] - 2s 9ms/step - loss: 2.4196\n",
      "Epoch 3/20\n",
      "105/105 [==============================] - 2s 10ms/step - loss: 2.1937\n",
      "Epoch 4/20\n",
      "105/105 [==============================] - 2s 10ms/step - loss: 2.0474\n",
      "Epoch 5/20\n",
      "105/105 [==============================] - 2s 10ms/step - loss: 1.9133\n",
      "Epoch 6/20\n",
      "105/105 [==============================] - 2s 9ms/step - loss: 1.8009\n",
      "Epoch 7/20\n",
      "105/105 [==============================] - 2s 10ms/step - loss: 1.7084\n",
      "Epoch 8/20\n",
      "105/105 [==============================] - 2s 9ms/step - loss: 1.6352\n",
      "Epoch 9/20\n",
      "105/105 [==============================] - 2s 9ms/step - loss: 1.5738\n",
      "Epoch 10/20\n",
      "105/105 [==============================] - 2s 10ms/step - loss: 1.5234\n",
      "Epoch 11/20\n",
      "105/105 [==============================] - 2s 10ms/step - loss: 1.4808\n",
      "Epoch 12/20\n",
      "105/105 [==============================] - 2s 10ms/step - loss: 1.4437\n",
      "Epoch 13/20\n",
      "105/105 [==============================] - 2s 10ms/step - loss: 1.4122\n",
      "Epoch 14/20\n",
      "105/105 [==============================] - 2s 10ms/step - loss: 1.3842\n",
      "Epoch 15/20\n",
      "105/105 [==============================] - 2s 10ms/step - loss: 1.3588\n",
      "Epoch 16/20\n",
      "105/105 [==============================] - 2s 10ms/step - loss: 1.3369\n",
      "Epoch 17/20\n",
      "105/105 [==============================] - 2s 10ms/step - loss: 1.3161\n",
      "Epoch 18/20\n",
      "105/105 [==============================] - 2s 10ms/step - loss: 1.2978\n",
      "Epoch 19/20\n",
      "105/105 [==============================] - 2s 10ms/step - loss: 1.2798\n",
      "Epoch 20/20\n",
      "105/105 [==============================] - 2s 10ms/step - loss: 1.2629\n",
      "Epoch 1/20\n",
      "105/105 [==============================] - 3s 13ms/step - loss: 3.1773\n",
      "Epoch 2/20\n",
      "105/105 [==============================] - 2s 12ms/step - loss: 2.4669\n",
      "Epoch 3/20\n",
      "105/105 [==============================] - 2s 12ms/step - loss: 2.2261\n",
      "Epoch 4/20\n",
      "105/105 [==============================] - 2s 11ms/step - loss: 2.1042\n",
      "Epoch 5/20\n",
      "105/105 [==============================] - 2s 11ms/step - loss: 2.0097\n",
      "Epoch 6/20\n",
      "105/105 [==============================] - 2s 11ms/step - loss: 1.9283\n",
      "Epoch 7/20\n",
      "105/105 [==============================] - 2s 11ms/step - loss: 1.8612\n",
      "Epoch 8/20\n",
      "105/105 [==============================] - 2s 12ms/step - loss: 1.8061\n",
      "Epoch 9/20\n",
      "105/105 [==============================] - 2s 11ms/step - loss: 1.7591\n",
      "Epoch 10/20\n",
      "105/105 [==============================] - 2s 11ms/step - loss: 1.7180\n",
      "Epoch 11/20\n",
      "105/105 [==============================] - 2s 11ms/step - loss: 1.6821\n",
      "Epoch 12/20\n",
      "105/105 [==============================] - 2s 11ms/step - loss: 1.6490\n",
      "Epoch 13/20\n",
      "105/105 [==============================] - 2s 11ms/step - loss: 1.6203\n",
      "Epoch 14/20\n",
      "105/105 [==============================] - 2s 12ms/step - loss: 1.5939\n",
      "Epoch 15/20\n",
      "105/105 [==============================] - 2s 11ms/step - loss: 1.5697\n",
      "Epoch 16/20\n",
      "105/105 [==============================] - 2s 11ms/step - loss: 1.5474\n",
      "Epoch 17/20\n",
      "105/105 [==============================] - 2s 12ms/step - loss: 1.5269\n",
      "Epoch 18/20\n",
      "105/105 [==============================] - 2s 12ms/step - loss: 1.5075\n",
      "Epoch 19/20\n",
      "105/105 [==============================] - 2s 12ms/step - loss: 1.4906\n",
      "Epoch 20/20\n",
      "105/105 [==============================] - 2s 11ms/step - loss: 1.4726\n"
     ]
    }
   ],
   "source": [
    "history1 = model1.fit(dataset, epochs=20)\n",
    "history2 = model2.fit(dataset, epochs=20)\n",
    "history3 = model3.fit(dataset, epochs=20)"
   ]
  },
  {
   "cell_type": "markdown",
   "metadata": {
    "id": "k3NWs0TPPBW_"
   },
   "source": [
    "Now that each of models have been trained, we can view their statistics. The GRU model ended in the lowest final loss, indicating that it may be the strongest model. As for performance, LSTM was the worst performing, and Simple RNN was the best performing, but the difference was not significant enough to exclude a model. Let's review the distribution of logit loss over per epoch."
   ]
  },
  {
   "cell_type": "code",
   "execution_count": 28,
   "metadata": {
    "colab": {
     "base_uri": "https://localhost:8080/",
     "height": 312
    },
    "id": "lKsvtVgoLZPW",
    "outputId": "30c5af73-3417-4034-be89-1a9f5560ad14"
   },
   "outputs": [
    {
     "data": {
      "text/plain": [
       "<matplotlib.legend.Legend at 0x7f57e9ff91d0>"
      ]
     },
     "execution_count": 28,
     "metadata": {},
     "output_type": "execute_result"
    },
    {
     "data": {
      "image/png": "[encoded data removed]",
      "text/plain": [
       "<Figure size 432x288 with 1 Axes>"
      ]
     },
     "metadata": {
      "needs_background": "light"
     },
     "output_type": "display_data"
    }
   ],
   "source": [
    "plt.figure()\n",
    "plt.plot(history1.history[\"loss\"], c = 'b', label='RNN')\n",
    "plt.plot(history2.history[\"loss\"], c = 'r', label='GRU')\n",
    "plt.plot(history3.history[\"loss\"], c = 'g', label='LSTM')\n",
    "plt.title(\"Model Loss Analysis\")\n",
    "plt.xlabel(\"Epoch\")\n",
    "plt.ylabel(\"Loss\")\n",
    "plt.legend()\n",
    "#initial observations favor Simple Reccurent Neural Network"
   ]
  },
  {
   "cell_type": "markdown",
   "metadata": {
    "id": "5zY8MWrpPduW"
   },
   "source": [
    "After Epoch 5, the GRU model appeared to be the best performing model. GRU was also consistently the best over most the parameter training. Therefore, we will use a GRU variation model for the final result."
   ]
  },
  {
   "cell_type": "markdown",
   "metadata": {
    "id": "RUj6ZawQBb6c"
   },
   "source": [
    "## 5. Compiling and Training Final Model"
   ]
  },
  {
   "cell_type": "markdown",
   "metadata": {
    "id": "sXKTQnTjSkAE"
   },
   "source": [
    "As discussed from in the previous cell, we will be using the GRU model which was analyzed previously. After parameter testing, the embedding dimension is best where it is at. RNN units, on the other hand, is best with 32 times the embedding dimension, or 32 nodes in the system. Increasing the rnn units decreased the loss until around 34. Furthermore, increasing the sequence length to 100 (increasing the amount of input per point), also decreased the loss, leading to that adjustment. With those values, the final model was was constructed, compiled, then trained. The results are shown below."
   ]
  },
  {
   "cell_type": "code",
   "execution_count": 27,
   "metadata": {
    "colab": {
     "base_uri": "https://localhost:8080/"
    },
    "id": "JHeYKWKnBbVd",
    "outputId": "060e533a-ac2a-41c9-bd52-e85b3833e944"
   },
   "outputs": [
    {
     "name": "stdout",
     "output_type": "stream",
     "text": [
      "Epoch 1/15\n",
      "362/362 [==============================] - 56s 127ms/step - loss: 2.3794\n",
      "Epoch 2/15\n",
      "362/362 [==============================] - 48s 129ms/step - loss: 1.6279\n",
      "Epoch 3/15\n",
      "362/362 [==============================] - 48s 129ms/step - loss: 1.3700\n",
      "Epoch 4/15\n",
      "362/362 [==============================] - 48s 129ms/step - loss: 1.2078\n",
      "Epoch 5/15\n",
      "362/362 [==============================] - 48s 129ms/step - loss: 1.0436\n",
      "Epoch 6/15\n",
      "362/362 [==============================] - 48s 130ms/step - loss: 0.8451\n",
      "Epoch 7/15\n",
      "362/362 [==============================] - 47s 126ms/step - loss: 0.6299\n",
      "Epoch 8/15\n",
      "362/362 [==============================] - 48s 130ms/step - loss: 0.4501\n",
      "Epoch 9/15\n",
      "362/362 [==============================] - 47s 126ms/step - loss: 0.3383\n",
      "Epoch 10/15\n",
      "362/362 [==============================] - 48s 129ms/step - loss: 0.2841\n",
      "Epoch 11/15\n",
      "362/362 [==============================] - 47s 128ms/step - loss: 0.2717\n",
      "Epoch 12/15\n",
      "362/362 [==============================] - 46s 125ms/step - loss: 0.2830\n",
      "Epoch 13/15\n",
      "362/362 [==============================] - 46s 125ms/step - loss: 0.2947\n",
      "Epoch 14/15\n",
      "362/362 [==============================] - 47s 126ms/step - loss: 0.3096\n",
      "Epoch 15/15\n",
      "362/362 [==============================] - 47s 126ms/step - loss: 0.3273\n"
     ]
    }
   ],
   "source": [
    "final_model = RNNmodel(vocab_size=vocab_size,\n",
    "    embedding_dim=embedding_dim,\n",
    "    rnn_units=6*rnn_units, #8 times original rnn_units, leading to 32 times the embedding dimension\n",
    "    rnn_type = \"GRU\") #GRU model result; now 32 rnn nodes\n",
    "\n",
    "final_model.compile(optimizer='adam', loss=loss)\n",
    "history = final_model.fit(dataset, epochs=15) #WARNING: may take long time to run"
   ]
  },
  {
   "cell_type": "markdown",
   "metadata": {
    "id": "gYics8gTENcV"
   },
   "source": [
    "## 6. Generating Text From Model"
   ]
  },
  {
   "cell_type": "markdown",
   "metadata": {
    "id": "CqnGdg6TUpWy"
   },
   "source": [
    "Now that we have our model, which is designed to model the writing of Mark Twain, we can finally write our new Mark Twain book. The next set of code is derived from Lab 10 once again, with the purpose of predicting text based on the previous text."
   ]
  },
  {
   "cell_type": "code",
   "execution_count": 31,
   "metadata": {
    "id": "7M2v_5o0DNQK"
   },
   "outputs": [],
   "source": [
    "class New(tf.keras.Model): #School of Information Studies, 2022\n",
    "  def __init__(self, model, chars_from_ids, ids_from_chars, temp=1.0):\n",
    "    super().__init__()\n",
    "    self.temp = temp #scaling coefficient\n",
    "    self.model = model #model used to produce text\n",
    "    self.chars_from_ids = chars_from_ids #characters from indices input\n",
    "    self.ids_from_chars = ids_from_chars #indices from characters input\n",
    "\n",
    "    mask_ids = self.ids_from_chars(['[UNK]'])[:, None] #unknown character mask\n",
    "    sparse_mask = tf.SparseTensor(values=[-float('inf')]*len(mask_ids), #all text before to current text\n",
    "        indices=mask_ids, #current text\n",
    "        dense_shape=[len(ids_from_chars.get_vocabulary())]) #shape of matrix given vocab size\n",
    "    self.prediction_mask = tf.sparse.to_dense(sparse_mask) #tf mask\n",
    "\n",
    "  @tf.function\n",
    "  def generate_one_step(self, inputs, states=None):\n",
    "    input_chars = tf.strings.unicode_split(inputs, 'UTF-8') #input text to convert to characters\n",
    "    input_ids = self.ids_from_chars(input_chars).to_tensor() #getting characters and converting to ids\n",
    "\n",
    "    pred_logits, states = self.model(inputs=input_ids, states=states,\n",
    "                                          return_state=True) #logit predictions\n",
    "\n",
    "    pred_logits = pred_logits[:, -1, :] #using most recent prediction\n",
    "    pred_logits = pred_logits/self.temp #scaling prediction\n",
    "\n",
    "    pred_logits = pred_logits + self.prediction_mask #masking term\n",
    "\n",
    "    pred_ids = tf.random.categorical(pred_logits, num_samples=1) #generating predicted ids\n",
    "    pred_ids = tf.squeeze(pred_ids, axis=-1)\n",
    "    pred_chars = self.chars_from_ids(pred_ids) #returning to characters\n",
    "    \n",
    "    return pred_chars, states #returning text and state"
   ]
  },
  {
   "cell_type": "markdown",
   "metadata": {
    "id": "0zUemEQcZuTX"
   },
   "source": [
    "Now that the model is compiled, we can incorporate the trained model and run it with our data. The temperature is adjusted based on the desired randomness in the data. Observationally, 1.0 appeared to have the best writen result"
   ]
  },
  {
   "cell_type": "code",
   "execution_count": 32,
   "metadata": {
    "id": "39mz7JNVFYL5"
   },
   "outputs": [],
   "source": [
    "newbook = New(final_model, chars_from_ids, ids_from_chars, temp = 1.0)"
   ]
  },
  {
   "cell_type": "markdown",
   "metadata": {
    "id": "YF0TrVwAbBSd"
   },
   "source": [
    "Now that text generation model is complete, we can start viewing text from the new book! The first 2000 characters are shown below."
   ]
  },
  {
   "cell_type": "code",
   "execution_count": 33,
   "metadata": {
    "colab": {
     "base_uri": "https://localhost:8080/"
    },
    "id": "a2OZceApFf14",
    "outputId": "172be3d9-fa85-4ddb-d08a-03ce5d8b65c8"
   },
   "outputs": [
    {
     "name": "stdout",
     "output_type": "stream",
     "text": [
      "\r\n",
      "\r\n",
      "\r\n",
      "CHAPTER I.\r\n",
      "\r\n",
      "\r\n",
      "A bringing stared and chap, and a snake-skinned nothing. “The whole fight now! I won’t betry and tell you what's\r\n",
      "going on they every day if they get back to the widow’s baggles. That’ll be a good boy.”\r\n",
      "\r\n",
      "Says If get me worse. After with her ifas' hands considered a miserab endures wishing him and A\r\n",
      "new-caustry and snoress as they walled; and told me to come back. This well night. They gained on the\r\n",
      "ferry landing, and there was no window was upter some conspicuous eight now ex to tell on it. It set down in\r\n",
      "dewn he would slip over all this outfroken search would be in a man on the tribe of Grangerfords, and frocks entirely.\r\n",
      "\r\n",
      "But Stands for the family would say their pipes and powerful jacter. The old lady seas it was a good name and scratched out a\r\n",
      "pie and the hat church. He said I wished I was glad I hadn't fell day. Con you going\r\n",
      "to camp from grought on the table end of the floor and old rat he older\r\n",
      "up any more--both or our house; and if you're abroading a pipon without saying a year.\r\n",
      "\r\n",
      "But in that hard a said something of interest to possesting something to see why I couldn't stand my scrape; but she tried to get\r\n",
      "out on the grass in the world to me with enevily by and by. Muchadsem, he\r\n",
      "said:\r\n",
      "\r\n",
      "“Why, my boy, you are a targe’t aight of it. And all that?”\r\n",
      "\r\n",
      "“It’s our old rush of Muff Potter’s pop' mile below the window—but the quarter was still as putting\r\n",
      "hating themselves worried over it. She was smiless heart of the church, and her\r\n",
      "face got through the hands of the jeal-that he had beenthant too grown that was his voice; then he\r\n",
      "dropped the writts and went searing against him by the thinnes. The dicken\r\n",
      "right on a relie quiet with the empty aise supper—the stoles of the church’s eyes conveniently; he made a so\r\n",
      "bad luck that the boys had a long slow bit out of one of his active at time, and takened him\r\n",
      "on with indance to him, and he was half suppy; and as he dropped in behind. His heart was gone\r\n",
      "and we wanted him to go achore in the water. When  \n",
      "\n",
      "________________________________________________________________________________\n"
     ]
    }
   ],
   "source": [
    "states = None\n",
    "next_char = tf.constant([\"\\r\\n\\r\\n\\r\\nCHAPTER I.\\r\\n\\r\\n\\r\\n\"])\n",
    "result = [next_char] #starting with \"Chapter I.\"\n",
    "\n",
    "for n in range(2000): #first 200 characters; about first page\n",
    "  next_char, states = newbook.generate_one_step(next_char, states=states) #gnerating the next step of text from the initial (to end)\n",
    "  result.append(next_char) #appending result into text\n",
    "\n",
    "result = tf.strings.join(result) #joining all of the resulting strings\n",
    "print(result[0].numpy().decode('utf-8'), '\\n\\n' + '_'*80) #printing the results"
   ]
  },
  {
   "cell_type": "markdown",
   "metadata": {
    "id": "unt7abGsbtwN"
   },
   "source": [
    "## Conclusion\n",
    "Once the text is generated, our objective is complete! Several coherent paragraphs of text are exactly what we are looking for. Overall, the book appears to be in good shape relative to the training methods. Although it is not perfect grammatically, the text does appear to be written with an underlying plot and purpose. Although it may seem confusing at first glance, Mark Twain himself was not always the clearest in his writing; the test does appear to resemble him partially.\n",
    "\n",
    "So, the output was successful in the objective. Along with coherent sentences, sentences and paragraphs seem to be somewhat related. But how can it be better or include a larger plotline with Huckleberry Finn and Tom Sawyer? Running the model with a larger data set of books or increasing the memory layers would likely decrease the loss, thus supporting the overall quality of the text. Specifically, if the model trained with more books written by Mark Twain about the two main characters would surely improve the models. Furthermore, adding additional layers to the models would likely improve the memories linking the text much more efficiently. Also, generating more text, in general, may help the plot develop as well. The text seems to be from Huckleberry Finn's perspective and mentions Tom in the text as well (may change based on run instance).\n",
    "\n",
    "Expanding this concept, this method could surely be used for other authors. Moving forward, the model structure could be documented then incorporated into some designated function. This function could take in text data, train it with its variations, then return new similar text. Using other authors and other books, especially those from gutenberg, may help with the development of new stories."
   ]
  },
  {
   "cell_type": "markdown",
   "metadata": {
    "id": "vqFb9-fci4m3"
   },
   "source": [
    "## References\n",
    "- School of Infomation Studies. (2022, Spring). IST 664 Lab 9 Notebook. Syracuse, New York: Syracuse University. Retrieved from class website at https://blackboard.syracuse.edu/bbcswebdav/pid-7942130-dt-content-rid-88619002_1/xid-88619002_1.\n",
    "- School of Infomation Studies. (2022, Spring). IST 664 Lab 10 Notebook. Syracuse, New York: Syracuse University. Retrieved from class website at https://blackboard.syracuse.edu/bbcswebdav/pid-7954325-dt-content-rid-88999200_1/xid-88999200_1."
   ]
  },
  {
   "cell_type": "code",
   "execution_count": 32,
   "metadata": {
    "id": "iwm0xnmbn0KT"
   },
   "outputs": [],
   "source": []
  },
  {
   "cell_type": "code",
   "execution_count": 32,
   "metadata": {
    "id": "0VwAreR8VIjD"
   },
   "outputs": [],
   "source": []
  }
 ],
 "metadata": {
  "accelerator": "GPU",
  "colab": {
   "name": "IST664_Tutorial.ipynb",
   "provenance": []
  },
  "kernelspec": {
   "display_name": "Python 3 (ipykernel)",
   "language": "python",
   "name": "python3"
  },
  "language_info": {
   "codemirror_mode": {
    "name": "ipython",
    "version": 3
   },
   "file_extension": ".py",
   "mimetype": "text/x-python",
   "name": "python",
   "nbconvert_exporter": "python",
   "pygments_lexer": "ipython3",
   "version": "3.8.5"
  }
 },
 "nbformat": 4,
 "nbformat_minor": 1
}
